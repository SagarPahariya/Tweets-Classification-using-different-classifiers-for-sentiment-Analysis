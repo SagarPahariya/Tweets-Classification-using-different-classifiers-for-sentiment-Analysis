{
 "cells": [
  {
   "cell_type": "code",
   "execution_count": 1,
   "metadata": {
    "colab": {
     "base_uri": "https://localhost:8080/"
    },
    "executionInfo": {
     "elapsed": 71292,
     "status": "ok",
     "timestamp": 1618568406460,
     "user": {
      "displayName": "Sagar Phadiya",
      "photoUrl": "",
      "userId": "07683125135495786419"
     },
     "user_tz": -330
    },
    "id": "oscmXFp7Y7QW",
    "outputId": "989104e5-3378-43e2-e9ea-8cd89db56be8"
   },
   "outputs": [
    {
     "name": "stdout",
     "output_type": "stream",
     "text": [
      "Mounted at /content/drive\n"
     ]
    }
   ],
   "source": [
    "from google.colab import drive\n",
    "drive.mount('/content/drive')"
   ]
  },
  {
   "cell_type": "code",
   "execution_count": 2,
   "metadata": {
    "colab": {
     "base_uri": "https://localhost:8080/"
    },
    "executionInfo": {
     "elapsed": 71281,
     "status": "ok",
     "timestamp": 1618568406462,
     "user": {
      "displayName": "Sagar Phadiya",
      "photoUrl": "",
      "userId": "07683125135495786419"
     },
     "user_tz": -330
    },
    "id": "JoRlFAZMfdsO",
    "outputId": "06800d88-0d3b-4cd7-a1b0-dcd9c2c92387"
   },
   "outputs": [
    {
     "name": "stdout",
     "output_type": "stream",
     "text": [
      "/content/drive/My Drive\n"
     ]
    }
   ],
   "source": [
    "%cd /content/drive/My Drive"
   ]
  },
  {
   "cell_type": "code",
   "execution_count": 3,
   "metadata": {
    "executionInfo": {
     "elapsed": 1587,
     "status": "ok",
     "timestamp": 1618568445333,
     "user": {
      "displayName": "Sagar Phadiya",
      "photoUrl": "",
      "userId": "07683125135495786419"
     },
     "user_tz": -330
    },
    "id": "0WS-NbHsfewi"
   },
   "outputs": [],
   "source": [
    "import pandas as pd\n",
    "import numpy as np\n",
    "import random\n",
    "import itertools\n",
    "import matplotlib.pyplot as plt\n",
    "import seaborn as sns\n",
    "from sklearn.metrics import accuracy_score\n",
    "from sklearn.metrics import precision_score\n",
    "from sklearn.metrics import recall_score\n",
    "from sklearn.metrics import f1_score\n",
    "from sklearn.metrics import confusion_matrix\n",
    "from sklearn.naive_bayes import MultinomialNB\n",
    "from sklearn.svm import LinearSVC\n",
    "from sklearn.linear_model import LogisticRegression\n",
    "from sklearn.tree import DecisionTreeClassifier\n",
    "from sklearn.ensemble import RandomForestClassifier\n",
    "from xgboost import XGBClassifier\n",
    "import xgboost as xgb\n",
    "from sklearn.feature_extraction.text import TfidfVectorizer\n",
    "from sklearn import metrics\n",
    "from sklearn.metrics import roc_curve\n",
    "from sklearn.model_selection import train_test_split\n",
    "%matplotlib inline\n",
    "\n",
    "import warnings;\n",
    "warnings.filterwarnings('ignore')"
   ]
  },
  {
   "cell_type": "code",
   "execution_count": 4,
   "metadata": {
    "colab": {
     "base_uri": "https://localhost:8080/"
    },
    "executionInfo": {
     "elapsed": 8354,
     "status": "ok",
     "timestamp": 1618568454186,
     "user": {
      "displayName": "Sagar Phadiya",
      "photoUrl": "",
      "userId": "07683125135495786419"
     },
     "user_tz": -330
    },
    "id": "AFLwq8XQY7Qo",
    "outputId": "d0831bf1-ceae-4fe1-f7bb-4c5139179cef"
   },
   "outputs": [
    {
     "name": "stdout",
     "output_type": "stream",
     "text": [
      "<class 'pandas.core.frame.DataFrame'>\n",
      "RangeIndex: 1600000 entries, 0 to 1599999\n",
      "Data columns (total 2 columns):\n",
      " #   Column   Non-Null Count    Dtype \n",
      "---  ------   --------------    ----- \n",
      " 0   target   1600000 non-null  int64 \n",
      " 1   content  1592549 non-null  object\n",
      "dtypes: int64(1), object(1)\n",
      "memory usage: 24.4+ MB\n"
     ]
    }
   ],
   "source": [
    "#reading dataset\n",
    "df = pd.read_csv('preprocessed_file.csv', encoding = 'latin',engine='python')\n",
    "df.info()\n"
   ]
  },
  {
   "cell_type": "code",
   "execution_count": 5,
   "metadata": {
    "colab": {
     "base_uri": "https://localhost:8080/"
    },
    "executionInfo": {
     "elapsed": 2529,
     "status": "ok",
     "timestamp": 1618568454188,
     "user": {
      "displayName": "Sagar Phadiya",
      "photoUrl": "",
      "userId": "07683125135495786419"
     },
     "user_tz": -330
    },
    "id": "EdlA6POEY7Qp",
    "outputId": "ba8174ad-c1a2-4bec-826a-0ccfe67517cb"
   },
   "outputs": [
    {
     "name": "stdout",
     "output_type": "stream",
     "text": [
      "target        0\n",
      "content    7451\n",
      "dtype: int64\n"
     ]
    }
   ],
   "source": [
    "#check for missing values\n",
    "print(df.isnull().sum())\n",
    "# remove missing values\n",
    "df.dropna(inplace=True)\n"
   ]
  },
  {
   "cell_type": "code",
   "execution_count": 6,
   "metadata": {
    "colab": {
     "base_uri": "https://localhost:8080/"
    },
    "executionInfo": {
     "elapsed": 1918,
     "status": "ok",
     "timestamp": 1618568454894,
     "user": {
      "displayName": "Sagar Phadiya",
      "photoUrl": "",
      "userId": "07683125135495786419"
     },
     "user_tz": -330
    },
    "id": "fp8F-_lwY7Qq",
    "outputId": "e4d95c3a-320b-4d17-f985-edf378915e70"
   },
   "outputs": [
    {
     "name": "stdout",
     "output_type": "stream",
     "text": [
      "Shape of X_train pad tensor 1114784\n",
      "Shape of y_train tensor 1114784\n",
      "Shape of X_test tensor 477765\n",
      "Shape of y_test tensor 477765\n"
     ]
    }
   ],
   "source": [
    "#divide 70-30% in train and test vectors\n",
    "X_train, X_test, y_train, y_test = train_test_split(df['content'],df['target'], test_size=0.3)\n",
    "print('Shape of X_train pad tensor',len(X_train))\n",
    "print('Shape of y_train tensor',len(y_train))\n",
    "print('Shape of X_test tensor',len(X_test))\n",
    "print('Shape of y_test tensor',len(y_test))"
   ]
  },
  {
   "cell_type": "code",
   "execution_count": 7,
   "metadata": {
    "colab": {
     "base_uri": "https://localhost:8080/"
    },
    "executionInfo": {
     "elapsed": 49985,
     "status": "ok",
     "timestamp": 1618568508951,
     "user": {
      "displayName": "Sagar Phadiya",
      "photoUrl": "",
      "userId": "07683125135495786419"
     },
     "user_tz": -330
    },
    "id": "4-GLDC3_Y7Qs",
    "outputId": "9283d632-4bee-4fc1-a499-7695c0f899b9"
   },
   "outputs": [
    {
     "name": "stdout",
     "output_type": "stream",
     "text": [
      "Train Vocabulary shape : (1114784, 147583)\n",
      "Test Vocabulary shape : (477765, 147583)\n"
     ]
    }
   ],
   "source": [
    "# Generate counts from text using a vectorizer (Document term matrix)\n",
    "vectorizer = TfidfVectorizer(stop_words='english',ngram_range=(1,2), binary=True, max_df=0.8, min_df=5e-6)\n",
    "train_features = vectorizer.fit_transform([r for r in X_train])\n",
    "print('Train Vocabulary shape :',train_features.shape)\n",
    "#print(vectorizer.vocabulary_)\n",
    "test_features = vectorizer.transform([r for r in X_test])\n",
    "print('Test Vocabulary shape :',test_features.shape)\n",
    "#print(vectorizer.vocabulary_)\n"
   ]
  },
  {
   "cell_type": "code",
   "execution_count": 8,
   "metadata": {
    "colab": {
     "base_uri": "https://localhost:8080/"
    },
    "executionInfo": {
     "elapsed": 111208,
     "status": "ok",
     "timestamp": 1618568575898,
     "user": {
      "displayName": "Sagar Phadiya",
      "photoUrl": "",
      "userId": "07683125135495786419"
     },
     "user_tz": -330
    },
    "id": "5FLmPu5oY7Qs",
    "outputId": "3894715e-ce2a-4727-cb36-a0a425089cbb"
   },
   "outputs": [
    {
     "name": "stdout",
     "output_type": "stream",
     "text": [
      "Logistic Regression \n",
      "Accuracy  : 77.9369%\n",
      "Precision : 76.8227%\n",
      "Recall    : 79.9572%\n",
      "F1-measure: 78.3586%\n"
     ]
    }
   ],
   "source": [
    "clf1 = LogisticRegression(max_iter=1000)\n",
    "clf1.fit(train_features, y_train)\n",
    "\n",
    "# Now we can use the model to predict classifications for our test features.\n",
    "predictions = clf1.predict(test_features)\n",
    "\n",
    "# Compute the error.Results after classification\n",
    "matrix = confusion_matrix(y_test, predictions)\n",
    "accuracy=accuracy_score(y_test, predictions)\n",
    "precision=precision_score(y_test, predictions)\n",
    "recall=recall_score(y_test, predictions)\n",
    "f1 = f1_score(y_test, predictions)\n",
    "\n",
    "print(\"Logistic Regression \")\n",
    "print(\"Accuracy  : {:.4f}%\".format(accuracy*100))\n",
    "print(\"Precision : {:.4f}%\".format(precision*100))\n",
    "print(\"Recall    : {:.4f}%\".format(recall*100))\n",
    "print(\"F1-measure: {:.4f}%\".format(f1*100))\n"
   ]
  },
  {
   "cell_type": "code",
   "execution_count": 9,
   "metadata": {
    "colab": {
     "base_uri": "https://localhost:8080/",
     "height": 312
    },
    "executionInfo": {
     "elapsed": 105447,
     "status": "ok",
     "timestamp": 1618568576926,
     "user": {
      "displayName": "Sagar Phadiya",
      "photoUrl": "",
      "userId": "07683125135495786419"
     },
     "user_tz": -330
    },
    "id": "3SkiaHLQY7Qt",
    "outputId": "2479d1e7-b77c-435a-b2b1-c515214b232e"
   },
   "outputs": [
    {
     "data": {
      "text/plain": [
       "<matplotlib.colorbar.Colorbar at 0x7fb75c9fb690>"
      ]
     },
     "execution_count": 9,
     "metadata": {
      "tags": []
     },
     "output_type": "execute_result"
    },
    {
     "data": {
      "image/png": "[encoded data removed]",
      "text/plain": [
       "<Figure size 432x288 with 2 Axes>"
      ]
     },
     "metadata": {
      "needs_background": "light",
      "tags": []
     },
     "output_type": "display_data"
    }
   ],
   "source": [
    "plt.imshow(matrix, interpolation='nearest')\n",
    "\n",
    "for i, j in itertools.product(range(matrix.shape[0]), range(matrix.shape[1])):\n",
    "    plt.text(j, i, matrix[i, j],horizontalalignment=\"center\",color=\"white\")\n",
    "\n",
    "plt.ylabel('True label (Recall)')\n",
    "plt.xlabel('Predicted label (Precision)')\n",
    "plt.title('LR | Confusion Matrix')\n",
    "plt.colorbar()"
   ]
  },
  {
   "cell_type": "code",
   "execution_count": 11,
   "metadata": {
    "colab": {
     "base_uri": "https://localhost:8080/"
    },
    "executionInfo": {
     "elapsed": 25252,
     "status": "ok",
     "timestamp": 1618568727110,
     "user": {
      "displayName": "Sagar Phadiya",
      "photoUrl": "",
      "userId": "07683125135495786419"
     },
     "user_tz": -330
    },
    "id": "OBmMa1KuY7Qt",
    "outputId": "aa08fe21-9cc5-4535-b8c2-b3e1909b8085"
   },
   "outputs": [
    {
     "name": "stdout",
     "output_type": "stream",
     "text": [
      "Linear SVC \n",
      "Accuracy  : 76.7082%\n",
      "Precision : 75.6486%\n",
      "Recall    : 78.7124%\n",
      "F1-measure: 77.1501%\n"
     ]
    }
   ],
   "source": [
    "clf2 = LinearSVC()\n",
    "clf2.fit(train_features, y_train)\n",
    "\n",
    "# Now we can use the model to predict classifications for our test features.\n",
    "predictions = clf2.predict(test_features)\n",
    "\n",
    "# Compute the error.Results after classification\n",
    "matrix = confusion_matrix(y_test, predictions)\n",
    "accuracy=accuracy_score(y_test, predictions)\n",
    "precision=precision_score(y_test, predictions)\n",
    "recall=recall_score(y_test, predictions)\n",
    "f1 = f1_score(y_test, predictions)\n",
    "\n",
    "print(\"Linear SVC \")\n",
    "print(\"Accuracy  : {:.4f}%\".format(accuracy*100))\n",
    "print(\"Precision : {:.4f}%\".format(precision*100))\n",
    "print(\"Recall    : {:.4f}%\".format(recall*100))\n",
    "print(\"F1-measure: {:.4f}%\".format(f1*100))\n"
   ]
  },
  {
   "cell_type": "code",
   "execution_count": 12,
   "metadata": {
    "colab": {
     "base_uri": "https://localhost:8080/",
     "height": 312
    },
    "executionInfo": {
     "elapsed": 1506,
     "status": "ok",
     "timestamp": 1618568752172,
     "user": {
      "displayName": "Sagar Phadiya",
      "photoUrl": "",
      "userId": "07683125135495786419"
     },
     "user_tz": -330
    },
    "id": "9MIgRJ_BY7Qu",
    "outputId": "ab6e7b1b-b138-4ac1-93ab-6cf994fcf12f"
   },
   "outputs": [
    {
     "data": {
      "text/plain": [
       "<matplotlib.colorbar.Colorbar at 0x7fb7566c3d10>"
      ]
     },
     "execution_count": 12,
     "metadata": {
      "tags": []
     },
     "output_type": "execute_result"
    },
    {
     "data": {
      "image/png": "[encoded data removed]",
      "text/plain": [
       "<Figure size 432x288 with 2 Axes>"
      ]
     },
     "metadata": {
      "needs_background": "light",
      "tags": []
     },
     "output_type": "display_data"
    }
   ],
   "source": [
    "plt.imshow(matrix, interpolation='nearest')\n",
    "\n",
    "for i, j in itertools.product(range(matrix.shape[0]), range(matrix.shape[1])):\n",
    "    plt.text(j, i, matrix[i, j],horizontalalignment=\"center\",color=\"white\")\n",
    "\n",
    "plt.ylabel('True label (Recall)')\n",
    "plt.xlabel('Predicted label (Precision)')\n",
    "plt.title('LSVC | Confusion Matrix')\n",
    "plt.colorbar()"
   ]
  },
  {
   "cell_type": "code",
   "execution_count": 14,
   "metadata": {
    "colab": {
     "base_uri": "https://localhost:8080/"
    },
    "executionInfo": {
     "elapsed": 3646,
     "status": "ok",
     "timestamp": 1618568773060,
     "user": {
      "displayName": "Sagar Phadiya",
      "photoUrl": "",
      "userId": "07683125135495786419"
     },
     "user_tz": -330
    },
    "id": "5VslWYPaY7Qu",
    "outputId": "20276a36-5ade-4cf5-840f-286d892d63a1"
   },
   "outputs": [
    {
     "name": "stdout",
     "output_type": "stream",
     "text": [
      "Multinomial Naive Bayes \n",
      "Accuracy  : 76.4483%\n",
      "Precision : 75.8711%\n",
      "Recall    : 77.5019%\n",
      "F1-measure: 76.6778%\n"
     ]
    }
   ],
   "source": [
    "clf3=MultinomialNB()\n",
    "clf3.fit(train_features, y_train)\n",
    "\n",
    "# Now we can use the model to predict classifications for our test features.\n",
    "predictions = clf3.predict(test_features)\n",
    "\n",
    "# Compute the error.Results after classification\n",
    "matrix = confusion_matrix(y_test, predictions)\n",
    "accuracy=accuracy_score(y_test, predictions)\n",
    "precision=precision_score(y_test, predictions)\n",
    "recall=recall_score(y_test, predictions)\n",
    "f1 = f1_score(y_test, predictions)\n",
    "\n",
    "print(\"Multinomial Naive Bayes \")\n",
    "print(\"Accuracy  : {:.4f}%\".format(accuracy*100))\n",
    "print(\"Precision : {:.4f}%\".format(precision*100))\n",
    "print(\"Recall    : {:.4f}%\".format(recall*100))\n",
    "print(\"F1-measure: {:.4f}%\".format(f1*100))"
   ]
  },
  {
   "cell_type": "code",
   "execution_count": 15,
   "metadata": {
    "colab": {
     "base_uri": "https://localhost:8080/",
     "height": 312
    },
    "executionInfo": {
     "elapsed": 2022,
     "status": "ok",
     "timestamp": 1618568774732,
     "user": {
      "displayName": "Sagar Phadiya",
      "photoUrl": "",
      "userId": "07683125135495786419"
     },
     "user_tz": -330
    },
    "id": "ZsLy5OZkY7Qy",
    "outputId": "afe2649b-e63b-4b08-bdba-3654ee754992",
    "scrolled": true
   },
   "outputs": [
    {
     "data": {
      "text/plain": [
       "<matplotlib.colorbar.Colorbar at 0x7fb7541b7810>"
      ]
     },
     "execution_count": 15,
     "metadata": {
      "tags": []
     },
     "output_type": "execute_result"
    },
    {
     "data": {
      "image/png": "[encoded data removed]",
      "text/plain": [
       "<Figure size 432x288 with 2 Axes>"
      ]
     },
     "metadata": {
      "needs_background": "light",
      "tags": []
     },
     "output_type": "display_data"
    }
   ],
   "source": [
    "plt.imshow(matrix, interpolation='nearest')\n",
    "\n",
    "for i, j in itertools.product(range(matrix.shape[0]), range(matrix.shape[1])):\n",
    "    plt.text(j, i, matrix[i, j],horizontalalignment=\"center\",color=\"white\")\n",
    "\n",
    "plt.ylabel('True label (Recall)')\n",
    "plt.xlabel('Predicted label (Precision)')\n",
    "plt.title('MNaiveBayes | Confusion Matrix')\n",
    "plt.colorbar()"
   ]
  },
  {
   "cell_type": "code",
   "execution_count": null,
   "metadata": {},
   "outputs": [],
   "source": [
    "# clf4 = DecisionTreeClassifier()\n",
    "# clf4.fit(train_features, y_train)\n",
    "\n",
    "# # Now we can use the model to predict classifications for our test features.\n",
    "# predictions = clf4.predict(test_features)\n",
    "\n",
    "# # Compute the error.Results after classification\n",
    "# matrix = confusion_matrix(y_test, predictions)\n",
    "# accuracy=accuracy_score(y_test, predictions)\n",
    "# precision=precision_score(y_test, predictions)\n",
    "# recall=recall_score(y_test, predictions)\n",
    "# f1 = f1_score(y_test, predictions)\n",
    "\n",
    "# print(\"DecisionTree Classifier \")\n",
    "# print(\"Accuracy  : {:.4f}%\".format(accuracy*100))\n",
    "# print(\"Precision : {:.4f}%\".format(precision*100))\n",
    "# print(\"Recall    : {:.4f}%\".format(recall*100))\n",
    "# print(\"F1-measure: {:.4f}%\".format(f1*100))"
   ]
  },
  {
   "cell_type": "code",
   "execution_count": null,
   "metadata": {},
   "outputs": [],
   "source": [
    "# plt.imshow(matrix, interpolation='nearest')\n",
    "\n",
    "# for i, j in itertools.product(range(matrix.shape[0]), range(matrix.shape[1])):\n",
    "#     plt.text(j, i, matrix[i, j],horizontalalignment=\"center\",color=\"white\")\n",
    "\n",
    "# plt.ylabel('True label (Recall)')\n",
    "# plt.xlabel('Predicted label (Precision)')\n",
    "# plt.title('Decision Tree | Confusion Matrix')\n",
    "# plt.colorbar()"
   ]
  },
  {
   "cell_type": "code",
   "execution_count": null,
   "metadata": {},
   "outputs": [],
   "source": [
    "# clf5 = RandomForestClassifier(n_estimators=1000, random_state=42)\n",
    "# clf5.fit(train_features, y_train)\n",
    "\n",
    "# # Now we can use the model to predict classifications for our test features.\n",
    "# predictions = clf5.predict(test_features)\n",
    "\n",
    "# # Compute the error.Results after classification\n",
    "# matrix = confusion_matrix(y_test, predictions)\n",
    "# accuracy=accuracy_score(y_test, predictions)\n",
    "# precision=precision_score(y_test, predictions)\n",
    "# recall=recall_score(y_test, predictions)\n",
    "# f1 = f1_score(y_test, predictions)\n",
    "\n",
    "# print(\"Random Forest \")\n",
    "# print(\"Accuracy  : {:.4f}%\".format(accuracy*100))\n",
    "# print(\"Precision : {:.4f}%\".format(precision*100))\n",
    "# print(\"Recall    : {:.4f}%\".format(recall*100))\n",
    "# print(\"F1-measure: {:.4f}%\".format(f1*100))"
   ]
  },
  {
   "cell_type": "code",
   "execution_count": null,
   "metadata": {},
   "outputs": [],
   "source": [
    "# plt.imshow(matrix, interpolation='nearest')\n",
    "\n",
    "# for i, j in itertools.product(range(matrix.shape[0]), range(matrix.shape[1])):\n",
    "#     plt.text(j, i, matrix[i, j],horizontalalignment=\"center\",color=\"white\")\n",
    "\n",
    "# plt.ylabel('True label (Recall)')\n",
    "# plt.xlabel('Predicted label (Precision)')\n",
    "# plt.title('RandomForest | Confusion Matrix')\n",
    "# plt.colorbar()"
   ]
  },
  {
   "cell_type": "code",
   "execution_count": null,
   "metadata": {},
   "outputs": [],
   "source": [
    "# clf6 = XGBClassifier(max_depth=6, n_estimators=1000, nthread= 3)\n",
    "# clf6.fit(train_features, y_train)\n",
    "\n",
    "# # Now we can use the model to predict classifications for our test features.\n",
    "# predictions = clf6.predict(test_features)\n",
    "\n",
    "# # Compute the error.Results after classification\n",
    "# matrix = confusion_matrix(y_test, predictions)\n",
    "# accuracy=accuracy_score(y_test, predictions)\n",
    "# precision=precision_score(y_test, predictions)\n",
    "# recall=recall_score(y_test, predictions)\n",
    "# f1 = f1_score(y_test, predictions)\n",
    "\n",
    "# print(\"XGB Classifier\")\n",
    "# print(\"Accuracy  : {:.4f}%\".format(accuracy*100))\n",
    "# print(\"Precision : {:.4f}%\".format(precision*100))\n",
    "# print(\"Recall    : {:.4f}%\".format(recall*100))\n",
    "# print(\"F1-measure: {:.4f}%\".format(f1*100))\n",
    "\n"
   ]
  },
  {
   "cell_type": "code",
   "execution_count": null,
   "metadata": {},
   "outputs": [],
   "source": [
    "# plt.imshow(matrix, interpolation='nearest')\n",
    "\n",
    "# for i, j in itertools.product(range(matrix.shape[0]), range(matrix.shape[1])):\n",
    "#     plt.text(j, i, matrix[i, j],horizontalalignment=\"center\",color=\"white\")\n",
    "\n",
    "# plt.ylabel('True label (Recall)')\n",
    "# plt.xlabel('Predicted label (Precision)')\n",
    "# plt.title('XGB Classifier | Confusion Matrix')\n",
    "# plt.colorbar()"
   ]
  },
  {
   "cell_type": "code",
   "execution_count": null,
   "metadata": {},
   "outputs": [],
   "source": []
  },
  {
   "cell_type": "code",
   "execution_count": null,
   "metadata": {},
   "outputs": [],
   "source": []
  }
 ],
 "metadata": {
  "colab": {
   "collapsed_sections": [],
   "name": "base.ipynb",
   "provenance": []
  },
  "kernelspec": {
   "display_name": "Python 3",
   "language": "python",
   "name": "python3"
  },
  "language_info": {
   "codemirror_mode": {
    "name": "ipython",
    "version": 3
   },
   "file_extension": ".py",
   "mimetype": "text/x-python",
   "name": "python",
   "nbconvert_exporter": "python",
   "pygments_lexer": "ipython3",
   "version": "3.8.5"
  },
  "toc": {
   "base_numbering": 1,
   "nav_menu": {},
   "number_sections": true,
   "sideBar": true,
   "skip_h1_title": false,
   "title_cell": "Table of Contents",
   "title_sidebar": "Contents",
   "toc_cell": false,
   "toc_position": {},
   "toc_section_display": true,
   "toc_window_display": false
  }
 },
 "nbformat": 4,
 "nbformat_minor": 1
}
