{
 "cells": [
  {
   "cell_type": "code",
   "execution_count": 1,
   "metadata": {
    "colab": {
     "base_uri": "https://localhost:8080/"
    },
    "executionInfo": {
     "elapsed": 1049,
     "status": "ok",
     "timestamp": 1618647736925,
     "user": {
      "displayName": "Sagar Phadiya",
      "photoUrl": "",
      "userId": "07683125135495786419"
     },
     "user_tz": -330
    },
    "id": "oscmXFp7Y7QW",
    "outputId": "4284eda9-452a-4a41-d567-c4c53ff90a94"
   },
   "outputs": [
    {
     "name": "stdout",
     "output_type": "stream",
     "text": [
      "Drive already mounted at /content/drive; to attempt to forcibly remount, call drive.mount(\"/content/drive\", force_remount=True).\n"
     ]
    }
   ],
   "source": [
    "from google.colab import drive\n",
    "drive.mount('/content/drive')"
   ]
  },
  {
   "cell_type": "code",
   "execution_count": 2,
   "metadata": {
    "colab": {
     "base_uri": "https://localhost:8080/"
    },
    "executionInfo": {
     "elapsed": 1136,
     "status": "ok",
     "timestamp": 1618647738245,
     "user": {
      "displayName": "Sagar Phadiya",
      "photoUrl": "",
      "userId": "07683125135495786419"
     },
     "user_tz": -330
    },
    "id": "JoRlFAZMfdsO",
    "outputId": "6a7aaf2a-1e73-41a1-a2e3-6fda0f453b50"
   },
   "outputs": [
    {
     "name": "stdout",
     "output_type": "stream",
     "text": [
      "/content/drive/My Drive\n"
     ]
    }
   ],
   "source": [
    "%cd /content/drive/My Drive"
   ]
  },
  {
   "cell_type": "code",
   "execution_count": 33,
   "metadata": {
    "executionInfo": {
     "elapsed": 796,
     "status": "ok",
     "timestamp": 1618652707030,
     "user": {
      "displayName": "Sagar Phadiya",
      "photoUrl": "",
      "userId": "07683125135495786419"
     },
     "user_tz": -330
    },
    "id": "0WS-NbHsfewi"
   },
   "outputs": [],
   "source": [
    "import pandas as pd\n",
    "import numpy as np\n",
    "import random\n",
    "import itertools\n",
    "import matplotlib.pyplot as plt\n",
    "import seaborn as sns\n",
    "from sklearn.metrics import accuracy_score\n",
    "from sklearn.metrics import precision_score\n",
    "from sklearn.metrics import recall_score\n",
    "from sklearn.metrics import f1_score\n",
    "from sklearn.metrics import confusion_matrix\n",
    "from sklearn.feature_extraction.text import TfidfVectorizer\n",
    "from sklearn import metrics\n",
    "from sklearn.metrics import roc_curve\n",
    "from sklearn.model_selection import train_test_split\n",
    "from sklearn.tree import DecisionTreeClassifier\n",
    "from sklearn.ensemble import RandomForestClassifier\n",
    "from xgboost import XGBClassifier\n",
    "import xgboost as xgb\n",
    "%matplotlib inline\n",
    "\n",
    "import warnings;\n",
    "warnings.filterwarnings('ignore')"
   ]
  },
  {
   "cell_type": "code",
   "execution_count": 4,
   "metadata": {
    "colab": {
     "base_uri": "https://localhost:8080/"
    },
    "executionInfo": {
     "elapsed": 7277,
     "status": "ok",
     "timestamp": 1618647752403,
     "user": {
      "displayName": "Sagar Phadiya",
      "photoUrl": "",
      "userId": "07683125135495786419"
     },
     "user_tz": -330
    },
    "id": "AFLwq8XQY7Qo",
    "outputId": "1598aab0-9499-4fb9-bc13-1344cb470d6d"
   },
   "outputs": [
    {
     "name": "stdout",
     "output_type": "stream",
     "text": [
      "<class 'pandas.core.frame.DataFrame'>\n",
      "RangeIndex: 1600000 entries, 0 to 1599999\n",
      "Data columns (total 2 columns):\n",
      " #   Column   Non-Null Count    Dtype \n",
      "---  ------   --------------    ----- \n",
      " 0   target   1600000 non-null  int64 \n",
      " 1   content  1592549 non-null  object\n",
      "dtypes: int64(1), object(1)\n",
      "memory usage: 24.4+ MB\n"
     ]
    }
   ],
   "source": [
    "#reading dataset\n",
    "df = pd.read_csv('preprocessed_file.csv', encoding = 'latin',engine='python')\n",
    "df.info()\n"
   ]
  },
  {
   "cell_type": "code",
   "execution_count": 25,
   "metadata": {
    "colab": {
     "base_uri": "https://localhost:8080/"
    },
    "executionInfo": {
     "elapsed": 1468,
     "status": "ok",
     "timestamp": 1618652452786,
     "user": {
      "displayName": "Sagar Phadiya",
      "photoUrl": "",
      "userId": "07683125135495786419"
     },
     "user_tz": -330
    },
    "id": "EdlA6POEY7Qp",
    "outputId": "b936a393-e085-42ad-fb68-8d95cd60f99a"
   },
   "outputs": [
    {
     "name": "stdout",
     "output_type": "stream",
     "text": [
      "target     0\n",
      "content    0\n",
      "dtype: int64\n"
     ]
    }
   ],
   "source": [
    "#check for missing values\n",
    "print(df.isnull().sum())\n",
    "# remove missing values\n",
    "df.dropna(inplace=True)\n",
    "pos_data = df[df.target==1].iloc[:25000,:]\n",
    "#print(pos_data.shape)\n",
    "neg_data = df[df.target==0].iloc[:1000,:]\n",
    "#print(neg_data.shape)\n",
    "tweet_df = pd.concat([pos_data,neg_data],axis = 0)"
   ]
  },
  {
   "cell_type": "code",
   "execution_count": 28,
   "metadata": {
    "executionInfo": {
     "elapsed": 862,
     "status": "ok",
     "timestamp": 1618652552853,
     "user": {
      "displayName": "Sagar Phadiya",
      "photoUrl": "",
      "userId": "07683125135495786419"
     },
     "user_tz": -330
    },
    "id": "fp8F-_lwY7Qq"
   },
   "outputs": [],
   "source": [
    "#divide 70-30% in train and test vectors\n",
    "X_train, X_test, y_train, y_test = train_test_split(tweet_df['content'],tweet_df['target'], test_size=0.3)"
   ]
  },
  {
   "cell_type": "code",
   "execution_count": 34,
   "metadata": {
    "executionInfo": {
     "elapsed": 1943,
     "status": "ok",
     "timestamp": 1618652713959,
     "user": {
      "displayName": "Sagar Phadiya",
      "photoUrl": "",
      "userId": "07683125135495786419"
     },
     "user_tz": -330
    },
    "id": "4-GLDC3_Y7Qs"
   },
   "outputs": [],
   "source": [
    "# Generate counts from text using a vectorizer (Document term matrix)\n",
    "vectorizer = TfidfVectorizer(stop_words='english',ngram_range=(1,2), max_df=0.90, min_df=2)\n",
    "train_features = vectorizer.fit_transform([r for r in X_train])\n",
    "#print('Train Vocabulary shape :',train_features.shape)\n",
    "#print(vectorizer.vocabulary_)\n",
    "test_features = vectorizer.transform([r for r in X_test])\n",
    "#print('Test Vocabulary shape :',test_features.shape)\n",
    "#print(vectorizer.vocabulary_)\n"
   ]
  },
  {
   "cell_type": "code",
   "execution_count": 36,
   "metadata": {
    "colab": {
     "base_uri": "https://localhost:8080/"
    },
    "executionInfo": {
     "elapsed": 7387,
     "status": "ok",
     "timestamp": 1618652735780,
     "user": {
      "displayName": "Sagar Phadiya",
      "photoUrl": "",
      "userId": "07683125135495786419"
     },
     "user_tz": -330
    },
    "id": "5FLmPu5oY7Qs",
    "outputId": "5548c252-7bfa-41e2-806e-72bf381d9a49"
   },
   "outputs": [
    {
     "name": "stdout",
     "output_type": "stream",
     "text": [
      "DecisionTree Classifier \n",
      "Accuracy  : 93.3974%\n",
      "Precision : 96.3731%\n",
      "Recall    : 96.7716%\n",
      "F1-measure: 96.5719%\n"
     ]
    }
   ],
   "source": [
    "clf1 = DecisionTreeClassifier()\n",
    "clf1.fit(train_features, y_train)\n",
    "\n",
    "# Now we can use the model to predict classifications for our test features.\n",
    "predictions = clf1.predict(test_features)\n",
    "\n",
    "# Compute the error.Results after classification\n",
    "matrix = confusion_matrix(y_test, predictions)\n",
    "accuracy=accuracy_score(y_test, predictions)\n",
    "precision=precision_score(y_test, predictions)\n",
    "recall=recall_score(y_test, predictions)\n",
    "f1 = f1_score(y_test, predictions)\n",
    "\n",
    "print(\"DecisionTree Classifier \")\n",
    "print(\"Accuracy  : {:.4f}%\".format(accuracy*100))\n",
    "print(\"Precision : {:.4f}%\".format(precision*100))\n",
    "print(\"Recall    : {:.4f}%\".format(recall*100))\n",
    "print(\"F1-measure: {:.4f}%\".format(f1*100))\n"
   ]
  },
  {
   "cell_type": "code",
   "execution_count": 40,
   "metadata": {
    "colab": {
     "base_uri": "https://localhost:8080/",
     "height": 312
    },
    "executionInfo": {
     "elapsed": 2306,
     "status": "ok",
     "timestamp": 1618652914342,
     "user": {
      "displayName": "Sagar Phadiya",
      "photoUrl": "",
      "userId": "07683125135495786419"
     },
     "user_tz": -330
    },
    "id": "3SkiaHLQY7Qt",
    "outputId": "8a2746a7-a959-4bd0-d0ae-67908e873785"
   },
   "outputs": [
    {
     "data": {
      "text/plain": [
       "<matplotlib.colorbar.Colorbar at 0x7f658bb12650>"
      ]
     },
     "execution_count": 40,
     "metadata": {
      "tags": []
     },
     "output_type": "execute_result"
    },
    {
     "data": {
      "image/png": "[encoded data removed]",
      "text/plain": [
       "<Figure size 432x288 with 2 Axes>"
      ]
     },
     "metadata": {
      "needs_background": "light",
      "tags": []
     },
     "output_type": "display_data"
    }
   ],
   "source": [
    "plt.imshow(matrix, interpolation='nearest')\n",
    "\n",
    "for i, j in itertools.product(range(matrix.shape[0]), range(matrix.shape[1])):\n",
    "    plt.text(j, i, matrix[i, j],horizontalalignment=\"center\",color=\"white\")\n",
    "\n",
    "plt.ylabel('True label (Recall)')\n",
    "plt.xlabel('Predicted label (Precision)')\n",
    "plt.title('Decision Tree | Confusion Matrix')\n",
    "plt.colorbar()"
   ]
  },
  {
   "cell_type": "code",
   "execution_count": 38,
   "metadata": {
    "colab": {
     "base_uri": "https://localhost:8080/"
    },
    "executionInfo": {
     "elapsed": 131433,
     "status": "ok",
     "timestamp": 1618652911999,
     "user": {
      "displayName": "Sagar Phadiya",
      "photoUrl": "",
      "userId": "07683125135495786419"
     },
     "user_tz": -330
    },
    "id": "OBmMa1KuY7Qt",
    "outputId": "d66ee737-52ce-48b8-c918-aca70274fa97"
   },
   "outputs": [
    {
     "name": "stdout",
     "output_type": "stream",
     "text": [
      "Random Forest \n",
      "Accuracy  : 96.1154%\n",
      "Precision : 96.3287%\n",
      "Recall    : 99.7599%\n",
      "F1-measure: 98.0143%\n"
     ]
    }
   ],
   "source": [
    "clf2 = RandomForestClassifier(n_estimators=1000, random_state=42)\n",
    "clf2.fit(train_features, y_train)\n",
    "\n",
    "# Now we can use the model to predict classifications for our test features.\n",
    "predictions = clf2.predict(test_features)\n",
    "\n",
    "# Compute the error.Results after classification\n",
    "matrix = confusion_matrix(y_test, predictions)\n",
    "accuracy=accuracy_score(y_test, predictions)\n",
    "precision=precision_score(y_test, predictions)\n",
    "recall=recall_score(y_test, predictions)\n",
    "f1 = f1_score(y_test, predictions)\n",
    "\n",
    "print(\"Random Forest \")\n",
    "print(\"Accuracy  : {:.4f}%\".format(accuracy*100))\n",
    "print(\"Precision : {:.4f}%\".format(precision*100))\n",
    "print(\"Recall    : {:.4f}%\".format(recall*100))\n",
    "print(\"F1-measure: {:.4f}%\".format(f1*100))"
   ]
  },
  {
   "cell_type": "code",
   "execution_count": 41,
   "metadata": {
    "colab": {
     "base_uri": "https://localhost:8080/",
     "height": 312
    },
    "executionInfo": {
     "elapsed": 1192,
     "status": "ok",
     "timestamp": 1618652924909,
     "user": {
      "displayName": "Sagar Phadiya",
      "photoUrl": "",
      "userId": "07683125135495786419"
     },
     "user_tz": -330
    },
    "id": "9MIgRJ_BY7Qu",
    "outputId": "4d65549d-b8a6-4356-e468-04cd061fbae6"
   },
   "outputs": [
    {
     "data": {
      "text/plain": [
       "<matplotlib.colorbar.Colorbar at 0x7f658c153190>"
      ]
     },
     "execution_count": 41,
     "metadata": {
      "tags": []
     },
     "output_type": "execute_result"
    },
    {
     "data": {
      "image/png": "[encoded data removed]",
      "text/plain": [
       "<Figure size 432x288 with 2 Axes>"
      ]
     },
     "metadata": {
      "needs_background": "light",
      "tags": []
     },
     "output_type": "display_data"
    }
   ],
   "source": [
    "plt.imshow(matrix, interpolation='nearest')\n",
    "\n",
    "for i, j in itertools.product(range(matrix.shape[0]), range(matrix.shape[1])):\n",
    "    plt.text(j, i, matrix[i, j],horizontalalignment=\"center\",color=\"white\")\n",
    "\n",
    "plt.ylabel('True label (Recall)')\n",
    "plt.xlabel('Predicted label (Precision)')\n",
    "plt.title('RandomForest | Confusion Matrix')\n",
    "plt.colorbar()"
   ]
  },
  {
   "cell_type": "code",
   "execution_count": 43,
   "metadata": {
    "colab": {
     "base_uri": "https://localhost:8080/"
    },
    "executionInfo": {
     "elapsed": 47421,
     "status": "ok",
     "timestamp": 1618653005455,
     "user": {
      "displayName": "Sagar Phadiya",
      "photoUrl": "",
      "userId": "07683125135495786419"
     },
     "user_tz": -330
    },
    "id": "5VslWYPaY7Qu",
    "outputId": "31b7a6a9-dae7-410e-ff61-df402e7e4354"
   },
   "outputs": [
    {
     "name": "stdout",
     "output_type": "stream",
     "text": [
      "XGB Classifier\n",
      "Accuracy  : 96.0385%\n",
      "Precision : 96.3737%\n",
      "Recall    : 99.6265%\n",
      "F1-measure: 97.9731%\n"
     ]
    }
   ],
   "source": [
    "clf3 = XGBClassifier(max_depth=6, n_estimators=1000, nthread= 3)\n",
    "clf3.fit(train_features, y_train)\n",
    "\n",
    "# Now we can use the model to predict classifications for our test features.\n",
    "predictions = clf3.predict(test_features)\n",
    "\n",
    "# Compute the error.Results after classification\n",
    "matrix = confusion_matrix(y_test, predictions)\n",
    "accuracy=accuracy_score(y_test, predictions)\n",
    "precision=precision_score(y_test, predictions)\n",
    "recall=recall_score(y_test, predictions)\n",
    "f1 = f1_score(y_test, predictions)\n",
    "\n",
    "print(\"XGB Classifier\")\n",
    "print(\"Accuracy  : {:.4f}%\".format(accuracy*100))\n",
    "print(\"Precision : {:.4f}%\".format(precision*100))\n",
    "print(\"Recall    : {:.4f}%\".format(recall*100))\n",
    "print(\"F1-measure: {:.4f}%\".format(f1*100))\n",
    "\n"
   ]
  },
  {
   "cell_type": "code",
   "execution_count": 44,
   "metadata": {
    "colab": {
     "base_uri": "https://localhost:8080/",
     "height": 312
    },
    "executionInfo": {
     "elapsed": 1229,
     "status": "ok",
     "timestamp": 1618653041831,
     "user": {
      "displayName": "Sagar Phadiya",
      "photoUrl": "",
      "userId": "07683125135495786419"
     },
     "user_tz": -330
    },
    "id": "ZsLy5OZkY7Qy",
    "outputId": "ed0628f5-ace4-497e-a74c-7d9af4842de7"
   },
   "outputs": [
    {
     "data": {
      "text/plain": [
       "<matplotlib.colorbar.Colorbar at 0x7f6590f70590>"
      ]
     },
     "execution_count": 44,
     "metadata": {
      "tags": []
     },
     "output_type": "execute_result"
    },
    {
     "data": {
      "image/png": "[encoded data removed]",
      "text/plain": [
       "<Figure size 432x288 with 2 Axes>"
      ]
     },
     "metadata": {
      "needs_background": "light",
      "tags": []
     },
     "output_type": "display_data"
    }
   ],
   "source": [
    "plt.imshow(matrix, interpolation='nearest')\n",
    "\n",
    "for i, j in itertools.product(range(matrix.shape[0]), range(matrix.shape[1])):\n",
    "    plt.text(j, i, matrix[i, j],horizontalalignment=\"center\",color=\"white\")\n",
    "\n",
    "plt.ylabel('True label (Recall)')\n",
    "plt.xlabel('Predicted label (Precision)')\n",
    "plt.title('XGB Classifier | Confusion Matrix')\n",
    "plt.colorbar()"
   ]
  }
 ],
 "metadata": {
  "colab": {
   "collapsed_sections": [],
   "name": "proposecode.ipynb",
   "provenance": []
  },
  "kernelspec": {
   "display_name": "Python 3",
   "language": "python",
   "name": "python3"
  },
  "language_info": {
   "codemirror_mode": {
    "name": "ipython",
    "version": 3
   },
   "file_extension": ".py",
   "mimetype": "text/x-python",
   "name": "python",
   "nbconvert_exporter": "python",
   "pygments_lexer": "ipython3",
   "version": "3.8.5"
  },
  "toc": {
   "base_numbering": 1,
   "nav_menu": {},
   "number_sections": true,
   "sideBar": true,
   "skip_h1_title": false,
   "title_cell": "Table of Contents",
   "title_sidebar": "Contents",
   "toc_cell": false,
   "toc_position": {},
   "toc_section_display": true,
   "toc_window_display": false
  }
 },
 "nbformat": 4,
 "nbformat_minor": 1
}
